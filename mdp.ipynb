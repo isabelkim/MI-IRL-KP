{
 "cells": [
  {
   "cell_type": "code",
   "execution_count": 1,
   "metadata": {},
   "outputs": [],
   "source": [
    "import pandas as pd \n",
    "import numpy as np "
   ]
  },
  {
   "cell_type": "code",
   "execution_count": 3,
   "metadata": {},
   "outputs": [],
   "source": [
    "\n",
    "def read_csv_to_dataframe(file_path):\n",
    "    try:\n",
    "        # Read the CSV file into a Pandas DataFrame\n",
    "        dataframe = pd.read_csv(file_path)\n",
    "        return dataframe\n",
    "    except FileNotFoundError:\n",
    "        print(f\"File not found: {file_path}\")\n",
    "        return None\n",
    "    except Exception as e:\n",
    "        print(f\"An error occurred: {str(e)}\")\n",
    "        return None\n"
   ]
  },
  {
   "cell_type": "code",
   "execution_count": 4,
   "metadata": {},
   "outputs": [
    {
     "name": "stderr",
     "output_type": "stream",
     "text": [
      "/var/folders/rl/fmlvy3bj3b15n9nltj9m084c0000gn/T/ipykernel_19290/723778750.py:4: DtypeWarning: Columns (11) have mixed types. Specify dtype option on import or set low_memory=False.\n",
      "  dataframe = pd.read_csv(file_path)\n"
     ]
    }
   ],
   "source": [
    "patient_df = read_csv_to_dataframe(\"data/patients.csv\")\n",
    "prescriptions_df = read_csv_to_dataframe(\"data/prescriptions.csv\")\n",
    "inputevents_df = read_csv_to_dataframe(\"data/inputevents.csv\")\n",
    "procedureevents_df = read_csv_to_dataframe(\"data/procedureevents.csv\")\n",
    "d_icd_diagnoses_df = read_csv_to_dataframe(\"data/d_icd_diagnoses.csv\")"
   ]
  }
 ],
 "metadata": {
  "kernelspec": {
   "display_name": ".venv",
   "language": "python",
   "name": "python3"
  },
  "language_info": {
   "codemirror_mode": {
    "name": "ipython",
    "version": 3
   },
   "file_extension": ".py",
   "mimetype": "text/x-python",
   "name": "python",
   "nbconvert_exporter": "python",
   "pygments_lexer": "ipython3",
   "version": "3.10.5"
  },
  "orig_nbformat": 4
 },
 "nbformat": 4,
 "nbformat_minor": 2
}
